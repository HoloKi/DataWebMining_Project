{
 "cells": [
  {
   "cell_type": "code",
   "execution_count": 1,
   "metadata": {},
   "outputs": [],
   "source": [
    "#%pip install lightgbm\n",
    "import pandas as pd\n",
    "import numpy as np\n",
    "import matplotlib.pyplot as plt\n",
    "from sklearn.ensemble import RandomForestRegressor\n",
    "from sklearn.model_selection import RandomizedSearchCV\n",
    "from sklearn.model_selection import GridSearchCV\n",
    "\n",
    "\n",
    "\n",
    "\n",
    "X_train= pd.read_csv(\"../train-test/X_train_medium.csv\")\n",
    "X_test= pd.read_csv(\"../train-test/X_test_medium.csv\")\n",
    "y_train= pd.read_csv(\"../train-test/y_train.csv\")\n",
    "y_test= pd.read_csv(\"../train-test/y_test.csv\")\n"
   ]
  },
  {
   "cell_type": "code",
   "execution_count": 2,
   "metadata": {},
   "outputs": [
    {
     "name": "stdout",
     "output_type": "stream",
     "text": [
      "{'n_estimators': range(10, 2000, 50), 'max_features': ['auto', 'sqrt'], 'max_depth': range(10, 500, 10), 'min_samples_split': [2, 5, 10, 30, 40], 'min_samples_leaf': [1, 2, 4], 'bootstrap': [True, False]}\n"
     ]
    }
   ],
   "source": [
    "# Number of trees in random forest\n",
    "n_estimators = range(10,2000,50)\n",
    "# Number of features to consider at every split\n",
    "max_features = ['auto', 'sqrt']\n",
    "# Maximum number of levels in tree\n",
    "max_depth = range(10,500,10)\n",
    "# Minimum number of samples required to split a node\n",
    "min_samples_split = [2, 5, 10,30,40]\n",
    "# Minimum number of samples required at each leaf node\n",
    "min_samples_leaf = [1, 2, 4]\n",
    "# Method of selecting samples for training each tree\n",
    "bootstrap = [True, False]\n",
    "# Create the random grid\n",
    "random_grid = {'n_estimators': n_estimators,\n",
    "               'max_features': max_features,\n",
    "               'max_depth': max_depth,\n",
    "               'min_samples_split': min_samples_split,\n",
    "               'min_samples_leaf': min_samples_leaf,\n",
    "               'bootstrap': bootstrap}\n",
    "print(random_grid)\n"
   ]
  },
  {
   "cell_type": "code",
   "execution_count": 3,
   "metadata": {},
   "outputs": [
    {
     "name": "stdout",
     "output_type": "stream",
     "text": [
      "Fitting 3 folds for each of 100 candidates, totalling 300 fits\n"
     ]
    },
    {
     "data": {
      "text/plain": [
       "{'n_estimators': 360,\n",
       " 'min_samples_split': 5,\n",
       " 'min_samples_leaf': 1,\n",
       " 'max_features': 'sqrt',\n",
       " 'max_depth': 430,\n",
       " 'bootstrap': False}"
      ]
     },
     "execution_count": 3,
     "metadata": {},
     "output_type": "execute_result"
    }
   ],
   "source": [
    "\n",
    "# Use the random grid to search for best hyperparameters\n",
    "# First create the base model to tune\n",
    "rf = RandomForestRegressor()\n",
    "# Random search of parameters, using 3 fold cross validation, \n",
    "# search across 100 different combinations, and use all available cores\n",
    "rf_random = RandomizedSearchCV(estimator = rf, param_distributions = random_grid, n_iter = 100, cv = 3, verbose=2, n_jobs = -1)\n",
    "# Fit the random search model\n",
    "rf_random.fit(X_train, y_train.values.ravel())\n",
    "rf_random.best_params_"
   ]
  },
  {
   "cell_type": "code",
   "execution_count": 4,
   "metadata": {},
   "outputs": [
    {
     "name": "stderr",
     "output_type": "stream",
     "text": [
      "C:\\Users\\alessandro\\AppData\\Local\\Temp\\ipykernel_21352\\2786575869.py:13: DataConversionWarning: A column-vector y was passed when a 1d array was expected. Please change the shape of y to (n_samples,), for example using ravel().\n",
      "  base_model.fit(X_train, y_train)\n"
     ]
    },
    {
     "name": "stdout",
     "output_type": "stream",
     "text": [
      "0.874543157712729\n",
      "Model Performance\n",
      "Average Error: 0.1008 degrees.\n",
      "Accuracy = 99.16%.\n",
      "\n",
      "0.9048140403543766\n",
      "Model Performance\n",
      "Average Error: 0.0867 degrees.\n",
      "Accuracy = 99.28%.\n",
      "\n",
      "Improvement of 0.12%.\n"
     ]
    }
   ],
   "source": [
    "def evaluate(model, test_features, test_labels):\n",
    "    predictions = model.predict(test_features)\n",
    "    errors = abs(predictions - test_labels)\n",
    "    mape = 100 * np.mean(errors / test_labels)\n",
    "    accuracy = 100 - mape\n",
    "    print('Model Performance')\n",
    "    print('Average Error: {:0.4f} degrees.'.format(np.mean(errors)))\n",
    "    print('Accuracy = {:0.2f}%.\\n'.format(accuracy))\n",
    "    \n",
    "    return accuracy\n",
    "\n",
    "base_model = RandomForestRegressor(n_estimators = 10, n_jobs=-1)\n",
    "base_model.fit(X_train, y_train)\n",
    "print(base_model.score(X_test, y_test.values.ravel()))\n",
    "base_accuracy = evaluate(base_model, X_test, y_test.values.ravel())\n",
    "\n",
    "best_random = rf_random.best_estimator_\n",
    "print(best_random.score(X_test, y_test.values.ravel()))\n",
    "random_accuracy = evaluate(best_random, X_test, y_test.values.ravel())\n",
    "\n",
    "print('Improvement of {:0.2f}%.'.format( 100 * (random_accuracy - base_accuracy) / base_accuracy))\n"
   ]
  },
  {
   "cell_type": "code",
   "execution_count": 5,
   "metadata": {},
   "outputs": [
    {
     "name": "stdout",
     "output_type": "stream",
     "text": [
      "Fitting 3 folds for each of 1440 candidates, totalling 4320 fits\n",
      "{'bootstrap': True, 'max_depth': 30, 'max_features': 15, 'min_samples_leaf': 3, 'min_samples_split': 2, 'n_estimators': 1000}\n",
      "0.902046463059125\n",
      "Model Performance\n",
      "Average Error: 0.0885 degrees.\n",
      "Accuracy = 99.26%.\n",
      "\n",
      "Improvement of 0.10%.\n"
     ]
    }
   ],
   "source": [
    "# Create the parameter grid based on the results of random search \n",
    "param_grid = {\n",
    "    'bootstrap': [True],\n",
    "    'max_depth': [20,30,80, 90, 100],\n",
    "    'max_features': [2, 3,15,30,50,138],\n",
    "    'min_samples_leaf': [3, 4, 5],\n",
    "    'min_samples_split': [2,5,8, 10],\n",
    "    'n_estimators': [800, 900, 1000, 1300]\n",
    "}\n",
    "# Create a based model\n",
    "rf = RandomForestRegressor()\n",
    "# Instantiate the grid search model\n",
    "grid_search = GridSearchCV(estimator = rf, param_grid = param_grid, \n",
    "                          cv = 3, n_jobs = -1, verbose = 2)\n",
    "\n",
    "# Fit the grid search to the data\n",
    "grid_search.fit(X_train, y_train.values.ravel())\n",
    "print((grid_search.best_params_))\n",
    "\n",
    "best_grid = grid_search.best_estimator_\n",
    "print(best_grid.score(X_test, y_test.values.ravel()))\n",
    "\n",
    "grid_accuracy = evaluate(best_grid, X_test, y_test.values.ravel())\n",
    "\n",
    "print('Improvement of {:0.2f}%.'.format( 100 * (grid_accuracy - base_accuracy) / base_accuracy))\n",
    "\n"
   ]
  },
  {
   "attachments": {},
   "cell_type": "markdown",
   "metadata": {},
   "source": [
    "Fitting 3 folds for each of 1440 candidates, totalling 4320 fits\n",
    "\n",
    "{'bootstrap': True, 'max_depth': 20, 'max_features': 15, 'min_samples_leaf': 3, 'min_samples_split': 5, 'n_estimators': 1000}\n",
    "\n",
    "0.902342771165578\n",
    "\n",
    "Model Performance\n",
    "Average Error: 0.0880 degrees.\n",
    "Accuracy = 99.26%.\n",
    "\n",
    "Improvement of 0.11%."
   ]
  },
  {
   "cell_type": "code",
   "execution_count": 6,
   "metadata": {},
   "outputs": [],
   "source": [
    "from ipynb.fs.defs.data_analysis import save_regressor\n",
    "rf= RandomForestRegressor(bootstrap = True, max_depth = 80, max_features = 15, min_samples_leaf = 3, min_samples_split = 8, n_estimators = 1300)\n",
    "save_regressor(rf)"
   ]
  },
  {
   "cell_type": "code",
   "execution_count": 7,
   "metadata": {},
   "outputs": [
    {
     "name": "stdout",
     "output_type": "stream",
     "text": [
      "enter\n",
      "                       Score      Variance           MSE\n",
      "name                                                    \n",
      "DecisionTreeRegressor  0.842  5.754077e+09  1.187411e+09\n",
      "KNeighborsRegressor    0.817  5.671486e+09  1.402773e+09\n",
      "LGBMRegressor          0.883  5.837807e+09  8.596156e+08\n",
      "LinearRegression       0.846  5.482299e+09  1.372148e+09\n",
      "RandomForestRegressor  0.891  5.651420e+09  8.100146e+08\n",
      "                       Score      Variance           MSE\n",
      "name                                                    \n",
      "DecisionTreeRegressor  0.830  5.920922e+09  1.283516e+09\n",
      "KNeighborsRegressor    0.291  4.999458e+09  4.721170e+09\n",
      "LGBMRegressor          0.902  5.810056e+09  7.237563e+08\n",
      "LinearRegression       0.846  5.481724e+09  1.456663e+09\n",
      "RandomForestRegressor  0.902  5.527662e+09  7.257831e+08\n",
      "                       Score      Variance           MSE\n",
      "name                                                    \n",
      "DecisionTreeRegressor  0.822  5.812806e+09  1.286819e+09\n",
      "KNeighborsRegressor    0.278  5.039304e+09  4.767924e+09\n",
      "LGBMRegressor          0.905  5.751458e+09  6.822443e+08\n",
      "LinearRegression       0.871  5.713463e+09  1.286978e+09\n",
      "RandomForestRegressor  0.899  5.301431e+09  7.689166e+08\n"
     ]
    }
   ],
   "source": [
    "from ipynb.fs.defs.data_analysis import model_analysis\n",
    "data = model_analysis(rf)"
   ]
  },
  {
   "cell_type": "code",
   "execution_count": 8,
   "metadata": {},
   "outputs": [],
   "source": [
    "data"
   ]
  },
  {
   "attachments": {},
   "cell_type": "markdown",
   "metadata": {},
   "source": []
  }
 ],
 "metadata": {
  "kernelspec": {
   "display_name": "base",
   "language": "python",
   "name": "python3"
  },
  "language_info": {
   "codemirror_mode": {
    "name": "ipython",
    "version": 3
   },
   "file_extension": ".py",
   "mimetype": "text/x-python",
   "name": "python",
   "nbconvert_exporter": "python",
   "pygments_lexer": "ipython3",
   "version": "3.9.16"
  },
  "orig_nbformat": 4
 },
 "nbformat": 4,
 "nbformat_minor": 2
}
